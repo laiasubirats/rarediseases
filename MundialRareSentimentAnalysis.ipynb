{
 "cells": [
  {
   "cell_type": "code",
   "execution_count": 1,
   "metadata": {
    "collapsed": false
   },
   "outputs": [
    {
     "name": "stdout",
     "output_type": "stream",
     "text": [
      "Headers Geo:  ['from_user', 'text', 'created_at', 'profile_image_url', 'user_followers_count', 'user_friends_count', 'user_location', 'status_url', 'text_en']\n"
     ]
    }
   ],
   "source": [
    "import pandas as pd\n",
    "from textblob import TextBlob\n",
    "all=pd.read_csv('C:/Users/laia.subirats/Documents/UOC/Mundial/Geo_2017_07_04_16.csv',sep=';',encoding='latin-1')\n",
    "print(\"Headers Geo: \", all.columns.values.tolist())"
   ]
  },
  {
   "cell_type": "code",
   "execution_count": 2,
   "metadata": {
    "collapsed": false
   },
   "outputs": [],
   "source": [
    "from textblob import TextBlob\n",
    "all['polarity'] = all.apply(lambda x: TextBlob(x['text_en']).sentiment.polarity, axis=1)\n",
    "all['subjectivity'] = all.apply(lambda x: TextBlob(x['text_en']).sentiment.subjectivity, axis=1)\n",
    "all.to_csv(\"C:/Users/laia.subirats/Documents/UOC/Mundial/Sentiment_output.csv\", sep=';', na_rep='',header=True, encoding='ISO-8859-1')"
   ]
  },
  {
   "cell_type": "code",
   "execution_count": 15,
   "metadata": {
    "collapsed": false
   },
   "outputs": [
    {
     "name": "stdout",
     "output_type": "stream",
     "text": [
      "Mean polarity 0.13339435893909243\n",
      "Std polarity 0.23995154326032364\n"
     ]
    }
   ],
   "source": [
    "import numpy as np\n",
    "import matplotlib.pyplot as plt\n",
    "import plotly.plotly as py\n",
    "import plotly.tools as tls\n",
    "plotly.tools.set_credentials_file(username='X', api_key='Y')\n",
    "print(\"Mean polarity\",np.mean(all['polarity']))\n",
    "print(\"Std polarity\",np.std(all['polarity']))\n",
    "mpl_fig = plt.figure()\n",
    "ax = mpl_fig.add_subplot(111)\n",
    "ax.boxplot(all['polarity'])\n",
    "ax.set_xlabel('Data Points')\n",
    "ax.set_ylabel('Variance')\n",
    "plotly_fig = tls.mpl_to_plotly( mpl_fig )\n",
    "plot_url = py.plot(plotly_fig, filename='boxplot-basic')"
   ]
  },
  {
   "cell_type": "code",
   "execution_count": 16,
   "metadata": {
    "collapsed": false
   },
   "outputs": [
    {
     "name": "stdout",
     "output_type": "stream",
     "text": [
      "Mean subjectivity 0.3062906723405528\n",
      "Std subjectivity 0.34955406471996125\n"
     ]
    }
   ],
   "source": [
    "print(\"Mean subjectivity\",np.mean(all['subjectivity']))\n",
    "print(\"Std subjectivity\",np.std(all['subjectivity']))\n",
    "mpl_fig = plt.figure()\n",
    "ax = mpl_fig.add_subplot(111)\n",
    "ax.boxplot(all['subjectivity'])\n",
    "ax.set_xlabel('Data Points')\n",
    "ax.set_ylabel('Variance')\n",
    "plotly_fig = tls.mpl_to_plotly( mpl_fig )\n",
    "plot_url = py.plot(plotly_fig, filename='boxplot-basic')"
   ]
  },
  {
   "cell_type": "code",
   "execution_count": 54,
   "metadata": {
    "collapsed": false
   },
   "outputs": [],
   "source": [
    "regiment=all['polarity'].groupby(all['from_user'])\n",
    "regiment.describe()\n",
    "regiment.describe().to_csv(\"C:/Users/laia.subirats/Documents/UOC/Mundial/Polarity_output.csv\", sep=';', na_rep='',header=True, encoding='ISO-8859-1')"
   ]
  },
  {
   "cell_type": "code",
   "execution_count": 55,
   "metadata": {
    "collapsed": true
   },
   "outputs": [],
   "source": [
    "regiment=all['subjectivity'].groupby(all['from_user'])\n",
    "regiment.describe()\n",
    "regiment.describe().to_csv(\"C:/Users/laia.subirats/Documents/UOC/Mundial/Subjectivity_output.csv\", sep=';', na_rep='',header=True, encoding='ISO-8859-1')"
   ]
  },
  {
   "cell_type": "code",
   "execution_count": null,
   "metadata": {
    "collapsed": true
   },
   "outputs": [],
   "source": []
  }
 ],
 "metadata": {
  "anaconda-cloud": {},
  "kernelspec": {
   "display_name": "Python [conda root]",
   "language": "python",
   "name": "conda-root-py"
  },
  "language_info": {
   "codemirror_mode": {
    "name": "ipython",
    "version": 3
   },
   "file_extension": ".py",
   "mimetype": "text/x-python",
   "name": "python",
   "nbconvert_exporter": "python",
   "pygments_lexer": "ipython3",
   "version": "3.5.2"
  }
 },
 "nbformat": 4,
 "nbformat_minor": 1
}
