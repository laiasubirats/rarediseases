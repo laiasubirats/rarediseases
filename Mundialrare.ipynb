{
 "cells": [
  {
   "cell_type": "code",
   "execution_count": 5,
   "metadata": {
    "collapsed": false
   },
   "outputs": [],
   "source": [
    "import folium\n",
    "map_1 = folium.Map(location=[45.372, -121.6972], zoom_start=12,tiles='Stamen Terrain')\n",
    "folium.Marker([45.3288, -121.6625], popup='Mt. Hood Meadows').add_to(map_1)\n",
    "folium.Marker([45.3311, -121.7113], popup='Timberline Lodge').add_to(map_1)\n",
    "map_1.save('C:/Users/laia.subirats/Documents/UOC/Mundial/osm.html')"
   ]
  },
  {
   "cell_type": "code",
   "execution_count": 360,
   "metadata": {
    "collapsed": false
   },
   "outputs": [],
   "source": [
    "import pandas as pd\n",
    "locations=pd.read_csv('C:/Users/laia.subirats/Documents/UOC/Mundial/geonames_2017_07_02_20.csv',sep=';',encoding='latin-1')\n",
    "all=pd.read_csv('C:/Users/laia.subirats/Documents/UOC/Mundial/Geo_2017_07_02_23.csv',sep=';',encoding='latin-1')"
   ]
  },
  {
   "cell_type": "code",
   "execution_count": 361,
   "metadata": {
    "collapsed": false
   },
   "outputs": [
    {
     "name": "stdout",
     "output_type": "stream",
     "text": [
      "Headers Geonames:  ['user_location', 'lat', 'lon']\n",
      "Headers Geo:  ['from_user', 'text', 'created_at', 'profile_image_url', 'user_followers_count', 'user_friends_count', 'user_location', 'status_url']\n"
     ]
    }
   ],
   "source": [
    "print(\"Headers Geonames: \", locations.columns.values.tolist())\n",
    "print(\"Headers Geo: \", all.columns.values.tolist())"
   ]
  },
  {
   "cell_type": "code",
   "execution_count": 362,
   "metadata": {
    "collapsed": false
   },
   "outputs": [
    {
     "data": {
      "text/plain": [
       "'\\nfor i in range(0,10):\\n    if(pd.isnull(all[\\'user_location\\'][i])==False):\\n        localizacion=all[\\'user_location\\'][i]\\n        print(\"Localización: \",localizacion)\\n        \\n        #llista= list(locations[\\'user_location\\'] == localizacion)\\n        #print(llistas)\\n        #print(locations.loc[locations[\\'user_location\\'].isin(localizacion)])\\n            #lat=locations[\\'lat\\']\\n'"
      ]
     },
     "execution_count": 362,
     "metadata": {},
     "output_type": "execute_result"
    }
   ],
   "source": [
    "newall = all.join(locations, on='user_location',lsuffix='user_location', rsuffix='user_location')\n",
    "newall.to_csv(\"C:/Users/laia.subirats/Documents/UOC/Mundial/output_2017_07_02_20_outer.csv\")\n",
    "\"\"\"\n",
    "for i in range(0,10):\n",
    "    if(pd.isnull(all['user_location'][i])==False):\n",
    "        localizacion=all['user_location'][i]\n",
    "        print(\"Localización: \",localizacion)\n",
    "        \n",
    "        #llista= list(locations['user_location'] == localizacion)\n",
    "        #print(llistas)\n",
    "        #print(locations.loc[locations['user_location'].isin(localizacion)])\n",
    "            #lat=locations['lat']\n",
    "\"\"\""
   ]
  },
  {
   "cell_type": "code",
   "execution_count": null,
   "metadata": {
    "collapsed": false
   },
   "outputs": [
    {
     "name": "stdout",
     "output_type": "stream",
     "text": [
      "Headers Geo:  ['name_user', 'tweet', 'from_user', 'text', 'created_at', 'profile_image_url', 'user_followers_count', 'user_friends_count', 'extra2', 'lat', 'lon', 'extra']\n"
     ]
    }
   ],
   "source": [
    "import math\n",
    "import string\n",
    "newall.columns = ['name_user','tweet','from_user','text','created_at','profile_image_url','user_followers_count','user_friends_count','extra2','lat','lon','extra']\n",
    "print(\"Headers Geo: \", newall.columns.values.tolist())\n",
    "#print(\"First: \",newall[:15])\n",
    "#print(\"Lat: \",newall['lat'][3].replace(\",\", \".\"))\n",
    "#print(\"Lon: \",newall['lon'][3].replace(\",\", \".\"))\n",
    "map_1 = folium.Map(location=[41.803717, -4.747173], zoom_start=6,tiles='Stamen Terrain')\n",
    "marker_cluster = folium.MarkerCluster(\"Cluster\").add_to(map_1)\n",
    "\n",
    "for i in range(0,len(newall)):\n",
    "    if(type(newall['lat'][i]) is str):\n",
    "        #print(newall['tweet'][i][0:40])\n",
    "        #print(type(newall['tweet'][i]))\n",
    "        namepop=newall['name_user'][i]+\" [\"+newall['from_user'][i]+\"] \"+newall['tweet'][i][0:135]\n",
    "        #print(\"not nan\")\n",
    "        #print(newall['lat'][i],\"----\",newall['lon'][i])\n",
    "        #folium.Marker([newall['lat'][i].replace(\",\", \".\"), newall['lon'][i].replace(\",\", \".\")], popup=namepop).add_to(map_1)\n",
    "        folium.Marker([newall['lat'][i].replace(\",\", \".\"), newall['lon'][i].replace(\",\", \".\")], popup=namepop).add_to(marker_cluster)\n",
    "        folium.Marker([newall['lat'][i].replace(\",\", \".\"), newall['lon'][i].replace(\",\", \".\")], popup=namepop).add_to(map_1)\n",
    "map_1.save('C:/Users/laia.subirats/Documents/UOC/Mundial/osm6.html')"
   ]
  },
  {
   "cell_type": "code",
   "execution_count": null,
   "metadata": {
    "collapsed": true
   },
   "outputs": [],
   "source": []
  },
  {
   "cell_type": "code",
   "execution_count": null,
   "metadata": {
    "collapsed": true
   },
   "outputs": [],
   "source": []
  }
 ],
 "metadata": {
  "anaconda-cloud": {},
  "kernelspec": {
   "display_name": "Python [conda root]",
   "language": "python",
   "name": "conda-root-py"
  },
  "language_info": {
   "codemirror_mode": {
    "name": "ipython",
    "version": 3
   },
   "file_extension": ".py",
   "mimetype": "text/x-python",
   "name": "python",
   "nbconvert_exporter": "python",
   "pygments_lexer": "ipython3",
   "version": "3.5.2"
  }
 },
 "nbformat": 4,
 "nbformat_minor": 1
}
